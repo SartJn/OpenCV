{
 "cells": [
  {
   "cell_type": "code",
   "execution_count": 5,
   "metadata": {},
   "outputs": [],
   "source": [
    "import cv2\n",
    "import numpy as np"
   ]
  },
  {
   "cell_type": "code",
   "execution_count": 4,
   "metadata": {},
   "outputs": [
    {
     "data": {
      "text/plain": [
       "-1"
      ]
     },
     "execution_count": 4,
     "metadata": {},
     "output_type": "execute_result"
    }
   ],
   "source": [
    "img = cv2.imread('speed.jpg', 0)\n",
    "cv2.imshow('window', img)\n",
    "cv2.waitKey(0)"
   ]
  },
  {
   "cell_type": "code",
   "execution_count": 5,
   "metadata": {},
   "outputs": [
    {
     "data": {
      "text/plain": [
       "True"
      ]
     },
     "execution_count": 5,
     "metadata": {},
     "output_type": "execute_result"
    }
   ],
   "source": [
    "cv2.imwrite('gray.jpg', img)"
   ]
  },
  {
   "cell_type": "code",
   "execution_count": 6,
   "metadata": {},
   "outputs": [
    {
     "name": "stdout",
     "output_type": "stream",
     "text": [
      "Good\n",
      "24.0\n",
      "7199.0\n",
      "2158.0\n",
      "3840.0\n"
     ]
    }
   ],
   "source": [
    "video = cv2.VideoCapture('nyan.webm')\n",
    "if video.isOpened():\n",
    "    print(\"Good\")\n",
    "    fps = video.get(cv2.CAP_PROP_FPS)\n",
    "    frame_count = video.get(cv2.CAP_PROP_FRAME_COUNT)\n",
    "    height = video.get(cv2.CAP_PROP_FRAME_HEIGHT)\n",
    "    width = video.get(cv2.CAP_PROP_FRAME_WIDTH)\n",
    "    print(fps)\n",
    "    print(frame_count)\n",
    "    print(height)\n",
    "    print(width)\n",
    "else:\n",
    "    print(\"Not good\")"
   ]
  },
  {
   "cell_type": "code",
   "execution_count": 7,
   "metadata": {},
   "outputs": [],
   "source": [
    "while video.isOpened():\n",
    "    ret, frame = video.read()\n",
    "    if ret == True:\n",
    "        cv2.imshow(\"Video frame\", frame)\n",
    "        key = cv2.waitKey(1000)\n",
    "        if key == ord('q'):\n",
    "            break\n",
    "    else:\n",
    "        break\n",
    "video.release()"
   ]
  },
  {
   "cell_type": "code",
   "execution_count": null,
   "metadata": {},
   "outputs": [],
   "source": []
  },
  {
   "cell_type": "code",
   "execution_count": null,
   "metadata": {},
   "outputs": [],
   "source": []
  }
 ],
 "metadata": {
  "kernelspec": {
   "display_name": "base",
   "language": "python",
   "name": "python3"
  },
  "language_info": {
   "codemirror_mode": {
    "name": "ipython",
    "version": 3
   },
   "file_extension": ".py",
   "mimetype": "text/x-python",
   "name": "python",
   "nbconvert_exporter": "python",
   "pygments_lexer": "ipython3",
   "version": "3.11.5"
  }
 },
 "nbformat": 4,
 "nbformat_minor": 2
}
